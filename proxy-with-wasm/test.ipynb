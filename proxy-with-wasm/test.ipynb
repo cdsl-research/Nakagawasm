{
 "cells": [
  {
   "cell_type": "markdown",
   "metadata": {},
   "source": [
    "## Note\n",
    "\n",
    "directly.csv, using_proxy.csv は下記のコマンドを実行して生成した．\n",
    "\n",
    "upstream (localhost:13901) は nginx の docker containerである．\n",
    "proxy (localhost:8000) はこのCargo projectのバイナリである (`cargo r -r`を実行するだけ)．\n",
    "\n",
    "また，コミットハッシュは `ca496dae24ab9f9d66fb9831741880587ca37d4a` である．\n",
    "\n",
    "\n",
    "```shell\n",
    "ntimes 1000 -- curl localhost:13901 -s -o /dev/null -w '%{time_total}\\n' > directly.csv\n",
    "ntimes 1000 -- curl localhost:8000 -s -o /dev/null -w '%{time_total}\\n' > using_proxy.csv\n",
    "```"
   ]
  },
  {
   "cell_type": "code",
   "execution_count": 1,
   "metadata": {},
   "outputs": [
    {
     "data": {
      "text/plain": [
       "0.6874039999999995"
      ]
     },
     "metadata": {},
     "output_type": "display_data"
    }
   ],
   "source": [
    "with open(\"directly.csv\") as f:\n",
    "    display(sum(map(float, f)))\n"
   ]
  },
  {
   "cell_type": "code",
   "execution_count": 2,
   "metadata": {},
   "outputs": [
    {
     "data": {
      "text/plain": [
       "0.8181879999999983"
      ]
     },
     "metadata": {},
     "output_type": "display_data"
    }
   ],
   "source": [
    "with open(\"using_proxy.csv\") as f:\n",
    "    display(sum(map(float, f)))\n"
   ]
  },
  {
   "cell_type": "code",
   "execution_count": 3,
   "metadata": {},
   "outputs": [
    {
     "name": "stderr",
     "output_type": "stream",
     "text": [
      "/tmp/ipykernel_706851/3728839262.py:14: UserWarning: FixedFormatter should only be used together with FixedLocator\n",
      "  ax.set_xticklabels(['direct', 'proxy'], fontdict={\"fontsize\": 14})\n"
     ]
    },
    {
     "data": {
      "image/png": "[encoded data removed]",
      "text/plain": [
       "<Figure size 288x288 with 1 Axes>"
      ]
     },
     "metadata": {
      "needs_background": "light"
     },
     "output_type": "display_data"
    }
   ],
   "source": [
    "from matplotlib import pyplot as plt\n",
    "import japanize_matplotlib\n",
    "\n",
    "cmp = []\n",
    "with open(\"directly.csv\") as f:\n",
    "    cmp.append(list(map(lambda x: x * 1000, map(float, f))))\n",
    "with open(\"using_proxy.csv\") as f:\n",
    "    cmp.append(list(map(lambda x: x * 1000, map(float, f))))\n",
    "\n",
    "fig, ax = plt.subplots()\n",
    "ax.grid(True)\n",
    "ax.tick_params(\"both\", labelsize=12)\n",
    "ax.set_ylabel(\"total_time [ms]\", fontdict={\"fontsize\": 14})\n",
    "ax.set_xticklabels(['direct', 'proxy'], fontdict={\"fontsize\": 14})\n",
    "ax.set_ylim(0, 2)\n",
    "ax.boxplot(cmp, showmeans=True, whis=(0, 100), widths=(0.6, 0.6))\n",
    "fig.set_size_inches(4, 4)\n",
    "fig.show()\n",
    "fig.savefig(\"compare-proxy-and-direct.pdf\", bbox_inches=\"tight\", pad_inches=0)\n",
    "fig.savefig(\"compare-proxy-and-direct.png\", bbox_inches=\"tight\", pad_inches=0)\n"
   ]
  }
 ],
 "metadata": {
  "kernelspec": {
   "display_name": "Python 3.8.10 ('.venv': venv)",
   "language": "python",
   "name": "python3"
  },
  "language_info": {
   "codemirror_mode": {
    "name": "ipython",
    "version": 3
   },
   "file_extension": ".py",
   "mimetype": "text/x-python",
   "name": "python",
   "nbconvert_exporter": "python",
   "pygments_lexer": "ipython3",
   "version": "3.8.10"
  },
  "orig_nbformat": 4,
  "vscode": {
   "interpreter": {
    "hash": "64c0bd96568a1ec01863893b1183560247ebaba5020b8db7dcd66d54a8db1cc5"
   }
  }
 },
 "nbformat": 4,
 "nbformat_minor": 2
}
